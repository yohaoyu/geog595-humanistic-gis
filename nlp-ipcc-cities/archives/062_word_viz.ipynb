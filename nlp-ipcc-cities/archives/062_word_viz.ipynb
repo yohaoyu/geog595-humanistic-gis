{
  "nbformat": 4,
  "nbformat_minor": 0,
  "metadata": {
    "colab": {
      "name": "062_word_viz.ipynb",
      "provenance": []
    },
    "kernelspec": {
      "name": "python3",
      "display_name": "Python 3"
    },
    "language_info": {
      "name": "python"
    }
  },
  "cells": [
    {
      "cell_type": "code",
      "execution_count": null,
      "metadata": {
        "id": "6yvhnomw0QFk"
      },
      "outputs": [],
      "source": [
        "from sklearn.decomposition import IncrementalPCA    # inital reduction\n",
        "from sklearn.manifold import TSNE                   # final reduction\n",
        "import numpy as np                                  # array handling\n",
        "from gensim.models import Word2Vec\n",
        "\n",
        "from wordcloud import STOPWORDS\n",
        "import nltk\n",
        "from nltk.probability import FreqDist\n",
        "import string\n",
        "import re"
      ]
    },
    {
      "cell_type": "code",
      "source": [
        "from google.colab import files\n",
        "# Create data on to Google Drive\n",
        "from google.colab import drive\n",
        "# Mount your Drive to the Colab VM.\n",
        "drive.mount('/gdrive')"
      ],
      "metadata": {
        "colab": {
          "base_uri": "https://localhost:8080/"
        },
        "id": "moemWmgl0eFr",
        "outputId": "ba03f8ae-c38c-4e28-dae3-cfbca84c273c"
      },
      "execution_count": null,
      "outputs": [
        {
          "output_type": "stream",
          "name": "stdout",
          "text": [
            "Mounted at /gdrive\n"
          ]
        }
      ]
    },
    {
      "cell_type": "code",
      "source": [
        "processedTxtPath = \"/gdrive/MyDrive/geog595/gay-seattle-processed.txt\""
      ],
      "metadata": {
        "id": "kJAH9KA20ynm"
      },
      "execution_count": 3,
      "outputs": []
    },
    {
      "cell_type": "code",
      "source": [
        "\n",
        "# load the dataset\n",
        "print(\"loading text data...\")\n",
        "txt = open(processedTxtPath, \"r\", encoding=\"utf8\").read()\n",
        "\n",
        "# Convert text to lowercase\n",
        "txt = txt.lower()\n",
        "# Remove numbers\n",
        "txt = re.sub(r'\\d+', '', txt)\n",
        "\n",
        "# Remove punctuation\n",
        "txt = re.sub(r'[^\\w\\s]', '', txt)\n",
        "\n",
        "# delete the white spaces\n",
        "# https://www.journaldev.com/23763/python-remove-spaces-from-string#python-remove-whitespaces-from-string-using-regex\n",
        "txt = \" \".join(txt.split())\n",
        "txt.translate({ord(c): None for c in string.whitespace})\n",
        "\n",
        "txt = txt.replace(\"gays\", \"gay\").replace(\"lesbians\", \"lesbian\").replace(\"seattles\", \"seattle\").replace(\"citys\", \"city\")\n",
        "\n",
        "\n",
        "stopwords = set(STOPWORDS)\n",
        "commonwords = {\"time\", \"one\", \"began\", \"among\", \"another\", \"see\", \"part\", \"many\", \"day\", \"day\", \"way\", \"times\",\n",
        "               \"still\", \"news\", \"three\", \"came\", \"became\", \"made\", \"wanted\", \"seemed\", \"made\", \"now\", \"society\",\n",
        "               \"ing\", \"time\", \"first\", \"new\", \"called\", \"said\", \"come\", \"two\", \"city\", \"group\", \"state\", \"year\",\n",
        "               \"case\", \"member\", \"even\", \"later\", \"month\", \"years\", \"much\", \"week\", \"county\", \"name\", \"example\"\n",
        "               \"well\", \"members\", \"us\", \"say\", \"s\"}\n",
        "stopwords.update(commonwords)\n",
        "\n",
        "# tokenize and calculate the word frequencies\n",
        "nltk.download('punkt')\n",
        "tokens = nltk.tokenize.word_tokenize(txt)\n",
        "fDist = FreqDist(tokens)\n",
        "\n",
        "\n",
        "tokens = nltk.tokenize.word_tokenize(txt)\n",
        "fDist = FreqDist(tokens)"
      ],
      "metadata": {
        "colab": {
          "base_uri": "https://localhost:8080/"
        },
        "id": "ZHfVNKin08Z0",
        "outputId": "6da5ed1a-d654-443c-e8fc-57f20daebf94"
      },
      "execution_count": 5,
      "outputs": [
        {
          "output_type": "stream",
          "name": "stdout",
          "text": [
            "loading text data...\n",
            "[nltk_data] Downloading package punkt to /root/nltk_data...\n",
            "[nltk_data]   Unzipping tokenizers/punkt.zip.\n"
          ]
        }
      ]
    },
    {
      "cell_type": "code",
      "source": [
        "model = Word2Vec.load(\"/gdrive/MyDrive/geog595/gay-seattle.w2v\")\n",
        "\n",
        "\n",
        "def reduce_dimensions(model):\n",
        "    num_dimensions = 2  # final num dimensions (2D, 3D, etc)\n",
        "\n",
        "    vectors = [] # positions in vector space\n",
        "    labels = [] # keep track of words to label our data again later\n",
        "    for word in model.wv.vocab:\n",
        "        vectors.append(model.wv[word])\n",
        "        labels.append(word)\n",
        "\n",
        "    # convert both lists into numpy vectors for reduction\n",
        "    vectors = np.asarray(vectors)\n",
        "    labels = np.asarray(labels)\n",
        "\n",
        "    # reduce using t-SNE\n",
        "    vectors = np.asarray(vectors)\n",
        "    tsne = TSNE(n_components=num_dimensions, random_state=0)\n",
        "    vectors = tsne.fit_transform(vectors)\n",
        "\n",
        "    x_vals = [v[0] for v in vectors]\n",
        "    y_vals = [v[1] for v in vectors]\n",
        "    return x_vals, y_vals, labels"
      ],
      "metadata": {
        "id": "SLQQCY871Iot"
      },
      "execution_count": 6,
      "outputs": []
    },
    {
      "cell_type": "code",
      "source": [
        "x_vals, y_vals, labels = reduce_dimensions(model)\n",
        "with open(\"/gdrive/MyDrive/geog595/gay-seattle-pnts.csv\", \"w+\", encoding=\"utf8\") as fp:\n",
        "    i = 0\n",
        "    fp.write(\"id, x, y, freq, label\\n\")\n",
        "    for label in labels:\n",
        "        fp.write(\"%d, %f, %f, %d, %s\\n\" % (i, x_vals[i], y_vals[i], fDist[label], label))\n",
        "        i += 1\n",
        "\n",
        "print(\"finished!\")"
      ],
      "metadata": {
        "colab": {
          "base_uri": "https://localhost:8080/"
        },
        "id": "3GXxWD7N1e5p",
        "outputId": "4cf1e0c4-5c54-4734-e1b9-9e2cb1bf44a6"
      },
      "execution_count": 8,
      "outputs": [
        {
          "output_type": "stream",
          "name": "stderr",
          "text": [
            "/usr/local/lib/python3.7/dist-packages/sklearn/manifold/_t_sne.py:783: FutureWarning: The default initialization in TSNE will change from 'random' to 'pca' in 1.2.\n",
            "  FutureWarning,\n",
            "/usr/local/lib/python3.7/dist-packages/sklearn/manifold/_t_sne.py:793: FutureWarning: The default learning rate in TSNE will change from 200.0 to 'auto' in 1.2.\n",
            "  FutureWarning,\n"
          ]
        },
        {
          "output_type": "stream",
          "name": "stdout",
          "text": [
            "finished!\n"
          ]
        }
      ]
    }
  ]
}