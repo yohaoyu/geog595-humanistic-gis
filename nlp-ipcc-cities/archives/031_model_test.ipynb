{
  "nbformat": 4,
  "nbformat_minor": 0,
  "metadata": {
    "colab": {
      "name": "031_model_test.ipynb",
      "provenance": [],
      "collapsed_sections": []
    },
    "kernelspec": {
      "name": "python3",
      "display_name": "Python 3"
    },
    "language_info": {
      "name": "python"
    }
  },
  "cells": [
    {
      "cell_type": "code",
      "execution_count": 1,
      "metadata": {
        "id": "YkWzSa5Vstjd"
      },
      "outputs": [],
      "source": [
        "from gensim.models import Word2Vec\n"
      ]
    },
    {
      "cell_type": "code",
      "source": [
        "from google.colab import files\n",
        "# Create data on to Google Drive\n",
        "from google.colab import drive\n",
        "# Mount your Drive to the Colab VM.\n",
        "drive.mount('/gdrive')"
      ],
      "metadata": {
        "colab": {
          "base_uri": "https://localhost:8080/"
        },
        "id": "LLgONBADs4CS",
        "outputId": "a9f87ac2-dcea-4617-e906-9d72183623be"
      },
      "execution_count": 2,
      "outputs": [
        {
          "output_type": "stream",
          "name": "stdout",
          "text": [
            "Mounted at /gdrive\n"
          ]
        }
      ]
    },
    {
      "cell_type": "code",
      "source": [
        "# test model\n",
        "print('loading model...')\n",
        "model = Word2Vec.load(\"/gdrive/MyDrive/geog595/gay-seattle.w2v\")\n",
        "print(\"seattle\", model.wv.most_similar('seattle', topn=50))\n",
        "\n",
        "print(model.wv.distances('seattle', ('news', 'june', 'times', 'march')))"
      ],
      "metadata": {
        "colab": {
          "base_uri": "https://localhost:8080/"
        },
        "id": "uuPXT_Cps-WS",
        "outputId": "7c43af5e-82ab-461a-e46c-ed4f82c14c72"
      },
      "execution_count": 3,
      "outputs": [
        {
          "output_type": "stream",
          "name": "stdout",
          "text": [
            "loading model...\n",
            "seattle [('june', 0.9990841150283813), ('march', 0.9990338087081909), ('news', 0.9989706873893738), ('apr', 0.9988960027694702), ('pride', 0.9988218545913696), ('times', 0.9987767338752747), ('lesbian', 0.9987643361091614), ('community', 0.9987329244613647), ('feb', 0.9986770749092102), ('may', 0.9986572265625), ('july', 0.9986539483070374), ('gay', 0.9986486434936523), ('told', 0.9986451864242554), ('sun', 0.9986202716827393), ('center', 0.9985971450805664), ('week', 0.9985807538032532), ('nov', 0.9985768795013428), ('project', 0.9985023736953735), ('susan', 0.9984842538833618), ('museum', 0.998471736907959), ('parade', 0.9984484910964966), ('history', 0.9984439611434937), ('reporter', 0.9984169602394104), ('northwest', 0.9984166622161865), ('sept', 0.998403787612915), ('collection', 0.998386025428772), ('c', 0.998383641242981), ('oct', 0.9983752965927124), ('men', 0.9983295202255249), ('see', 0.9983216524124146), ('aug', 0.9983177185058594), ('story', 0.9983130097389221), ('letter', 0.9983009099960327), ('openly', 0.9982983469963074), ('report', 0.9982938170433044), ('http', 0.9982818365097046), ('man', 0.9982632994651794), ('dec', 0.9982596635818481), ('jan', 0.9982395768165588), ('reported', 0.9982362985610962), ('b', 0.998232901096344), ('resource', 0.9982184171676636), ('advocate', 0.9982109665870667), ('weekly', 0.9982078075408936), ('formed', 0.9982072114944458), ('women', 0.9981976747512817), ('communication', 0.9981857538223267), ('broadway', 0.9981854557991028), ('alliance', 0.9981812238693237), ('commission', 0.9981708526611328)]\n",
            "[0.00102943 0.00091583 0.00122327 0.00096625]\n"
          ]
        }
      ]
    },
    {
      "cell_type": "code",
      "source": [
        "# print(\"model details: \", model)\n",
        "# print('similar words to seattle:')\n",
        "# print(\"capitol\", model.wv.most_similar('capitol'))\n",
        "#\n",
        "# print(\"gay\", model.wv.most_similar('gay', topn=50))\n",
        "# print(model.wv.most_similar('lesbian'))\n",
        "# print(model.wv.most_similar('considered'))\n",
        "# print(model.wv.most_similar('number'))\n",
        "# print(\"=================\")\n",
        "# print(model.wv.distances('seattle', ('gay', 'renton', 'lesbian', 'rain')))\n",
        "# print(model.wv.distance('seattle', 'civil'))\n",
        "# print(model.wv.distance('seattle', 'lesbian'))\n",
        "# print(model.wv.rank('seattle', 'gay'))\n",
        "# print(model.wv.rank('seattle', 'lesbian'))\n",
        "# print(model.wv.distances('seattle'))\n"
      ],
      "metadata": {
        "colab": {
          "base_uri": "https://localhost:8080/"
        },
        "id": "3RXr35T7tDmZ",
        "outputId": "961029b8-1668-4635-e39d-69f6444823fd"
      },
      "execution_count": 5,
      "outputs": [
        {
          "output_type": "stream",
          "name": "stdout",
          "text": [
            "gay [('lesbian', 0.999167799949646), ('news', 0.9989556074142456), ('community', 0.9988943338394165), ('center', 0.9987831115722656), ('history', 0.9987338781356812), ('project', 0.9986933469772339), ('march', 0.9986693859100342), ('june', 0.9986605048179626), ('resource', 0.998656690120697), ('seattle', 0.9986485838890076), ('museum', 0.9986175298690796), ('pride', 0.9985957145690918), ('women', 0.9984138011932373), ('apr', 0.9983686208724976), ('parade', 0.9983456134796143), ('feb', 0.998334527015686), ('northwest', 0.9983212947845459), ('july', 0.9982931613922119), ('week', 0.9982872605323792), ('bill', 0.9982830286026001), ('sun', 0.9982429146766663), ('men', 0.998241126537323), ('openly', 0.9981882572174072), ('commission', 0.9981817603111267), ('may', 0.9981733560562134), ('movement', 0.9981650114059448), ('alliance', 0.9981489181518555), ('communication', 0.998145580291748), ('activists', 0.9981437921524048), ('times', 0.9981271624565125), ('see', 0.9981205463409424), ('bars', 0.9981037378311157), ('struggle', 0.9980990886688232), ('coverage', 0.9980785846710205), ('nov', 0.9980427026748657), ('hearing', 0.9980334639549255), ('organization', 0.9980238676071167), ('ruth', 0.9980229139328003), ('oct', 0.9980137944221497), ('city', 0.998012363910675), ('formed', 0.9980115294456482), ('businesses', 0.9979958534240723), ('media', 0.9979955554008484), ('anti', 0.9979727864265442), ('newsletter', 0.9979681968688965), ('foundation', 0.9979597330093384), ('first', 0.9979571104049683), ('letter', 0.9979506134986877), ('activist', 0.9979382157325745), ('weekly', 0.9979267716407776)]\n"
          ]
        }
      ]
    }
  ]
}