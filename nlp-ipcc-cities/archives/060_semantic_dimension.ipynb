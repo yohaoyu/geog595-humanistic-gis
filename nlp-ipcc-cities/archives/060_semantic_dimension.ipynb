{
  "nbformat": 4,
  "nbformat_minor": 0,
  "metadata": {
    "colab": {
      "name": "06_semantic_dimension.ipynb",
      "provenance": []
    },
    "kernelspec": {
      "name": "python3",
      "display_name": "Python 3"
    },
    "language_info": {
      "name": "python"
    }
  },
  "cells": [
    {
      "cell_type": "code",
      "execution_count": 1,
      "metadata": {
        "id": "A4KD6oSIxhWM"
      },
      "outputs": [],
      "source": [
        "from gensim.models import Word2Vec\n",
        "import networkx as nx\n",
        "from wordcloud import STOPWORDS\n",
        "import nltk\n",
        "from nltk.probability import FreqDist\n",
        "import string\n",
        "import re"
      ]
    },
    {
      "cell_type": "code",
      "source": [
        "from google.colab import files\n",
        "# Create data on to Google Drive\n",
        "from google.colab import drive\n",
        "# Mount your Drive to the Colab VM.\n",
        "drive.mount('/gdrive')"
      ],
      "metadata": {
        "id": "gJqELX6MxuLS"
      },
      "execution_count": null,
      "outputs": []
    },
    {
      "cell_type": "code",
      "source": [
        "processedTxtPath = \"/gdrive/MyDrive/geog595/gay-seattle-processed.txt\""
      ],
      "metadata": {
        "id": "xcCAmhnZxxix"
      },
      "execution_count": 3,
      "outputs": []
    },
    {
      "cell_type": "code",
      "source": [
        "\n",
        "# load the dataset\n",
        "print(\"loading text data...\")\n",
        "txt = open(processedTxtPath, \"r\", encoding=\"utf8\").read()\n",
        "\n",
        "# Convert text to lowercase\n",
        "txt = txt.lower()\n",
        "# Remove numbers\n",
        "txt = re.sub(r'\\d+', '', txt)\n",
        "\n",
        "# Remove punctuation\n",
        "txt = re.sub(r'[^\\w\\s]', '', txt)\n",
        "\n",
        "# delete the white spaces\n",
        "# https://www.journaldev.com/23763/python-remove-spaces-from-string#python-remove-whitespaces-from-string-using-regex\n",
        "txt = \" \".join(txt.split())\n",
        "txt.translate({ord(c): None for c in string.whitespace})\n",
        "txt = txt.replace(\"gays\", \"gay\").replace(\"lesbians\", \"lesbian\").replace(\"seattles\", \"seattle\").replace(\"citys\", \"city\")\n",
        "stopwords = set(STOPWORDS)\n",
        "commonwords = {\"time\", \"one\", \"began\", \"among\", \"another\", \"see\", \"part\", \"many\", \"day\", \"day\", \"way\", \"times\",\n",
        "               \"still\", \"news\", \"three\", \"came\", \"became\", \"made\", \"wanted\", \"seemed\", \"made\", \"now\", \"society\",\n",
        "               \"ing\", \"time\", \"first\", \"new\", \"called\", \"said\", \"come\", \"two\", \"city\", \"group\", \"state\", \"year\",\n",
        "               \"case\", \"member\", \"even\", \"later\", \"month\", \"years\", \"much\", \"week\", \"county\", \"name\", \"example\"\n",
        "               \"well\", \"members\", \"us\", \"say\", \"s\"}\n",
        "stopwords.update(commonwords)\n",
        "\n",
        "# tokenize and calculate the word frequencies\n",
        "nltk.download('punkt')\n",
        "tokens = nltk.tokenize.word_tokenize(txt)\n",
        "fDist = FreqDist(tokens)\n",
        "# print(fDist.most_common(20))\n",
        "\n",
        "# remove the stop words and common words\n",
        "filtered_fDist = nltk.FreqDist(dict((word, freq) for word, freq in fDist.items() if word not in stopwords))\n",
        "\n",
        "\n",
        "# print(words)\n",
        "# words.remove(\"example\")\n",
        "# words.remove(\"told\")\n",
        "# words.remove(\"become\")\n",
        "# words.remove(\"well\")\n",
        "# words.remove(\"may\")\n",
        "# words.remove(\"june\")\n",
        "# words.remove(\"homosexuals\")\n"
      ],
      "metadata": {
        "id": "BjAZFhM8x4Yt"
      },
      "execution_count": null,
      "outputs": []
    },
    {
      "cell_type": "code",
      "source": [
        "print('loading model...')\n",
        "model = Word2Vec.load(\"/gdrive/MyDrive/geog595/gay-seattle.w2v\")\n",
        "g = nx.DiGraph()\n",
        "items = filtered_fDist.most_common(50)\n",
        "for item in items:\n",
        "    g.add_nodes_from(item[0])\n",
        "    try:\n",
        "        mswords = model.wv.most_similar(item[0], topn=25)\n",
        "        for msword in mswords:\n",
        "            g.add_nodes_from(msword[0])\n",
        "            g.add_edge(item[0], msword[0], weight=msword[1])\n",
        "            print(\"%s --> %s: %8.5f\" % (item[0], msword[0], msword[1]))\n",
        "    except KeyError as error:\n",
        "        print(error)\n",
        "\n",
        "nx.write_gexf(g, \"/gdrive/MyDrive/geog595/gay-seattle.gexf\", encoding='utf-8', prettyprint=True, version='1.1draft')\n",
        "print(\"finished!\")"
      ],
      "metadata": {
        "id": "85T9Hn8jyL0n"
      },
      "execution_count": null,
      "outputs": []
    }
  ]
}