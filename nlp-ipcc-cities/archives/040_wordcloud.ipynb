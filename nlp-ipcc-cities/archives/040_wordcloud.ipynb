{
  "nbformat": 4,
  "nbformat_minor": 0,
  "metadata": {
    "colab": {
      "name": "040_wordcloud.ipynb",
      "provenance": [],
      "collapsed_sections": []
    },
    "kernelspec": {
      "name": "python3",
      "display_name": "Python 3"
    },
    "language_info": {
      "name": "python"
    }
  },
  "cells": [
    {
      "cell_type": "code",
      "execution_count": 13,
      "metadata": {
        "id": "a3InQldYtTuC"
      },
      "outputs": [],
      "source": [
        "from wordcloud import WordCloud, STOPWORDS\n",
        "import nltk\n",
        "from nltk.probability import FreqDist\n",
        "import string\n",
        "import re\n",
        "import numpy as npy\n",
        "from PIL import Image"
      ]
    },
    {
      "cell_type": "code",
      "source": [
        "from google.colab import files\n",
        "# Create data on to Google Drive\n",
        "from google.colab import drive\n",
        "# Mount your Drive to the Colab VM.\n",
        "drive.mount('/gdrive')"
      ],
      "metadata": {
        "id": "0qTKOytstexd"
      },
      "execution_count": null,
      "outputs": []
    },
    {
      "cell_type": "code",
      "source": [
        "processedTxtPath = \"/gdrive/MyDrive/geog595/gay-seattle-processed.txt\"\n",
        "wcPath = \"/gdrive/MyDrive/geog595/gay-seattle.png\""
      ],
      "metadata": {
        "id": "pn2nIn9VtcLt"
      },
      "execution_count": 15,
      "outputs": []
    },
    {
      "cell_type": "code",
      "source": [
        "# load the dataset\n",
        "print(\"loading text data...\")\n",
        "txt = open(processedTxtPath, \"r\", encoding=\"utf8\").read()\n",
        "\n",
        "# Convert text to lowercase\n",
        "# txt = txt.lower()\n",
        "# Remove numbers\n",
        "txt = re.sub(r'\\d+', '', txt)\n",
        "\n",
        "# Remove punctuation\n",
        "txt = re.sub(r'[^\\w\\s]', '', txt)\n",
        "\n",
        "# delete the white spaces\n",
        "# https://www.journaldev.com/23763/python-remove-spaces-from-string#python-remove-whitespaces-from-string-using-regex\n",
        "txt = \" \".join(txt.split())\n",
        "txt.translate({ord(c): None for c in string.whitespace})\n",
        "\n",
        "txt = txt.replace(\"gays\", \"gay\").replace(\"lesbians\", \"lesbian\").replace(\"seattles\", \"seattle\").replace(\"citys\", \"city\")\n",
        "print(txt)\n",
        "\n",
        "stopwords = set(STOPWORDS)\n",
        "commonwords = {\"time\", \"one\", \"began\", \"among\", \"another\", \"see\", \"part\", \"many\", \"day\", \"day\", \"way\", \"times\",\n",
        "               \"still\", \"news\", \"three\", \"came\", \"became\", \"made\", \"wanted\", \"seemed\", \"made\", \"now\", \"society\",\n",
        "               \"ing\", \"time\", \"first\", \"new\", \"called\", \"said\", \"come\", \"two\", \"city\", \"group\", \"state\", \"year\",\n",
        "               \"case\", \"member\", \"even\", \"later\", \"month\", \"years\", \"much\", \"week\", \"county\", \"name\", \"example\"\n",
        "               \"well\", \"members\", \"us\", \"say\", \"s\"}\n",
        "stopwords.update(commonwords)\n",
        "\n",
        "# download corporas\n",
        "import nltk\n",
        "nltk.download('punkt')\n",
        "\n",
        "# tokenize and calculate the word frequencies\n",
        "tokens = nltk.tokenize.word_tokenize(txt)\n",
        "fDist = FreqDist(tokens)\n",
        "print(fDist.most_common(20))\n",
        "\n",
        "# remove the stop words and common words\n",
        "filtered_fDist = nltk.FreqDist(dict((word, freq) for word, freq in fDist.items() if word not in stopwords))\n",
        "\n",
        "print(filtered_fDist)\n",
        "filtered_fDist.plot(20)\n",
        "\n",
        "print(\"generating wordcloud...\")\n",
        "\n",
        "mask_array = npy.array(Image.open(\"/gdrive/MyDrive/geog595/cloud.jpg\"))\n",
        "wc = WordCloud(font_path='/gdrive/MyDrive/geog595/verdana.ttf', background_color=\"white\", max_words=50, prefer_horizontal=1, mask=mask_array, scale=3, stopwords=stopwords, collocations=False)\n",
        "wc.generate_from_frequencies(filtered_fDist)\n",
        "# wc.generate(txt)\n",
        "wc.to_file(wcPath)\n",
        "print(\"completed!\")"
      ],
      "metadata": {
        "id": "CPjzK0mYtiBN"
      },
      "execution_count": null,
      "outputs": []
    }
  ]
}